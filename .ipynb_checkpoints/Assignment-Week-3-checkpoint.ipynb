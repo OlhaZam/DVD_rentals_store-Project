{
 "cells": [
  {
   "cell_type": "code",
   "execution_count": 1,
   "id": "138ec2a0",
   "metadata": {},
   "outputs": [],
   "source": [
    "import pandas as pd\n",
    "import numpy as np\n",
    "import matplotlib.pyplot as plt"
   ]
  },
  {
   "cell_type": "code",
   "execution_count": 2,
   "id": "352f3ae9",
   "metadata": {},
   "outputs": [],
   "source": [
    "df_customer_data = pd.read_csv(\"#02-Project-2.csv\")"
   ]
  },
  {
   "cell_type": "code",
   "execution_count": 3,
   "id": "662e2053",
   "metadata": {},
   "outputs": [
    {
     "name": "stdout",
     "output_type": "stream",
     "text": [
      "   customer_id first_name last_name                              email  \\\n",
      "0          148    Eleanor      Hunt    eleanor.hunt@sakilacustomer.org   \n",
      "1          526       Karl      Seal       karl.seal@sakilacustomer.org   \n",
      "2          144      Clara      Shaw      clara.shaw@sakilacustomer.org   \n",
      "3          236     Marcia      Dean     marcia.dean@sakilacustomer.org   \n",
      "4           75      Tammy   Sanders   tammy.sanders@sakilacustomer.org   \n",
      "5          469     Wesley      Bull     wesley.bull@sakilacustomer.org   \n",
      "6          197        Sue    Peters      sue.peters@sakilacustomer.org   \n",
      "7          468        Tim      Cary        tim.cary@sakilacustomer.org   \n",
      "8          137     Rhonda   Kennedy  rhonda.kennedy@sakilacustomer.org   \n",
      "9          178     Marion    Snyder   marion.snyder@sakilacustomer.org   \n",
      "\n",
      "   rentals_number  \n",
      "0              46  \n",
      "1              45  \n",
      "2              42  \n",
      "3              42  \n",
      "4              41  \n",
      "5              40  \n",
      "6              40  \n",
      "7              39  \n",
      "8              39  \n",
      "9              39  \n"
     ]
    }
   ],
   "source": [
    "print(df_customer_data)"
   ]
  },
  {
   "cell_type": "code",
   "execution_count": 4,
   "id": "462bccdc",
   "metadata": {},
   "outputs": [
    {
     "name": "stdout",
     "output_type": "stream",
     "text": [
      "<class 'pandas.core.frame.DataFrame'>\n",
      "RangeIndex: 10 entries, 0 to 9\n",
      "Data columns (total 5 columns):\n",
      " #   Column          Non-Null Count  Dtype \n",
      "---  ------          --------------  ----- \n",
      " 0   customer_id     10 non-null     int64 \n",
      " 1   first_name      10 non-null     object\n",
      " 2   last_name       10 non-null     object\n",
      " 3   email           10 non-null     object\n",
      " 4   rentals_number  10 non-null     int64 \n",
      "dtypes: int64(2), object(3)\n",
      "memory usage: 532.0+ bytes\n"
     ]
    }
   ],
   "source": [
    "df_customer_data.info()"
   ]
  },
  {
   "cell_type": "code",
   "execution_count": 8,
   "id": "e207cf60",
   "metadata": {},
   "outputs": [
    {
     "data": {
      "text/plain": [
       "count    10.000000\n",
       "mean     41.300000\n",
       "std       2.496664\n",
       "min      39.000000\n",
       "25%      39.250000\n",
       "50%      40.500000\n",
       "75%      42.000000\n",
       "max      46.000000\n",
       "Name: rentals_number, dtype: float64"
      ]
     },
     "execution_count": 8,
     "metadata": {},
     "output_type": "execute_result"
    }
   ],
   "source": [
    "df_customer_data['rentals_number'].describe()"
   ]
  },
  {
   "cell_type": "code",
   "execution_count": null,
   "id": "0363258c",
   "metadata": {},
   "outputs": [],
   "source": []
  }
 ],
 "metadata": {
  "kernelspec": {
   "display_name": "Python 3 (ipykernel)",
   "language": "python",
   "name": "python3"
  },
  "language_info": {
   "codemirror_mode": {
    "name": "ipython",
    "version": 3
   },
   "file_extension": ".py",
   "mimetype": "text/x-python",
   "name": "python",
   "nbconvert_exporter": "python",
   "pygments_lexer": "ipython3",
   "version": "3.11.4"
  }
 },
 "nbformat": 4,
 "nbformat_minor": 5
}
